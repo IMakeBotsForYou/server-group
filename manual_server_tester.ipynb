{
 "cells": [
  {
   "cell_type": "code",
   "execution_count": 1,
   "id": "710cbb32",
   "metadata": {},
   "outputs": [],
   "source": [
    "from threading import Thread, Event\n",
    "import time\n",
    "import random\n",
    "# put here to remove all the imports from server.py and client.py\n",
    "from socket import AF_INET, socket, SOCK_STREAM, MSG_PEEK, gethostname, gethostbyname\n",
    "from re import search\n",
    "import json\n"
   ]
  },
  {
   "cell_type": "code",
   "execution_count": 2,
   "id": "be6362db",
   "metadata": {},
   "outputs": [],
   "source": [
    "\n",
    "def move(server):\n",
    "    # time.sleep(10)\n",
    "    server.send(\n",
    "        json.dumps({\n",
    "            \"type\": \"Game Move\",\n",
    "            \"index\": random.randint(1, 6)\n",
    "        }).encode()\n",
    "    )\n",
    "\n",
    "\n",
    "def send_data(server):\n",
    "    command = input(\"> \").lower()\n",
    "    if command in [\"start\", \"create\"]:\n",
    "        server.send(json.dumps({\"type\": \"Start Game\", \"slow_game\": False}).encode())\n",
    "    elif command in [\"restart\", \"reset\"]:\n",
    "        server.send(json.dumps({\"type\": \"Restart Game\"}).encode())\n",
    "    elif command == \"join\":\n",
    "        server.send(json.dumps({\"type\": \"Join Game\", \"game_id\": int(input(\"ID > \"))}).encode())\n",
    "    elif command in [\"quit\", \"leave\"]:\n",
    "        server.send(json.dumps({\"type\": \"Quit Game\"}).encode())\n",
    "    elif command in [\"login\"]:\n",
    "        server.send(json.dumps({\"type\": \"Login\", \"name\": input(\"Name > \")}).encode())\n",
    "    else:\n",
    "        server.send(command.encode())\n",
    "\n",
    "\n",
    "def recv_data(server):\n",
    "    while 1:\n",
    "        print(server.recv(1024*10, MSG_PEEK))\n",
    "        msg_length = int(server.recv(5))\n",
    "        data = json.loads(server.recv(msg_length))\n",
    "        \"\"\"\n",
    "        if data[\"type\"] == \"Board Update\":\n",
    "            if data[\"your turn\"]:\n",
    "                move(server)\n",
    "            print(data[\"board\"])\n",
    "\n",
    "        elif data[\"type\"] == \"Error\":\n",
    "\n",
    "            if data[\"errtype\"] == \"Invalid Name\":\n",
    "                print(data[\"data\"])\n",
    "                server.send(input(\"New name > \").encode())\n",
    "\n",
    "            if data[\"errtype\"] == \"Invalid Move\":\n",
    "                move(server)\n",
    "\n",
    "        elif data[\"type\"] == \"Game Over\":\n",
    "            we_won = data[\"won\"]\n",
    "            print(data[\"log\"])\n",
    "            if wewon:\n",
    "                print(\"yay!\")\n",
    "                # sock.send(json.dumps({\"type\": \"Restart Game\"}).encode())\n",
    "        \"\"\""
   ]
  },
  {
   "cell_type": "code",
   "execution_count": 47,
   "id": "997abc2c",
   "metadata": {},
   "outputs": [
    {
     "name": "stdout",
     "output_type": "stream",
     "text": [
      "Enter server port: 58250\n",
      "b'00064{\"type\": \"Welcome\", \"data\": \"Choose a name!\", \"Taken names\": []}'\n"
     ]
    }
   ],
   "source": [
    "sock = socket(AF_INET, SOCK_STREAM)\n",
    "ip = \"localhost\"\n",
    "port = int(input(\"Enter server port: \")) #enter server port\n",
    "sock.connect((ip, port))\n",
    "recv_thread = Thread(target=lambda: recv_data(sock))\n",
    "recv_thread.start()\n",
    "#recv_thread.join()"
   ]
  },
  {
   "cell_type": "code",
   "execution_count": 48,
   "id": "141e761d",
   "metadata": {},
   "outputs": [
    {
     "name": "stdout",
     "output_type": "stream",
     "text": [
      "Name > asd\n"
     ]
    },
    {
     "data": {
      "text/plain": [
       "32"
      ]
     },
     "execution_count": 48,
     "metadata": {},
     "output_type": "execute_result"
    }
   ],
   "source": [
    "sock.send(json.dumps({\"type\": \"Login\", \"name\": input(\"Name > \")}).encode())"
   ]
  },
  {
   "cell_type": "code",
   "execution_count": null,
   "id": "322033d4",
   "metadata": {},
   "outputs": [],
   "source": [
    "#sock.send(json.dumps({\"type\": \"Start Game\", \"slow_game\": False}).encode())\n",
    "\n",
    "#sock.send(json.dumps({\"type\": \"Restart Game\"}).encode())\n",
    "\n",
    "#sock.send(json.dumps({\"type\": \"Join Game\", \"game_id\": int(input(\"ID > \"))}).encode())\n",
    "\n",
    "#sock.send(json.dumps({\"type\": \"Quit Game\"}).encode())\n",
    "\n",
    "#sock.send(json.dumps({\"type\": \"Login\", \"name\": input(\"Name > \")}).encode())"
   ]
  },
  {
   "cell_type": "code",
   "execution_count": 57,
   "id": "fb5a523a",
   "metadata": {},
   "outputs": [
    {
     "data": {
      "text/plain": [
       "33"
      ]
     },
     "execution_count": 57,
     "metadata": {},
     "output_type": "execute_result"
    },
    {
     "name": "stdout",
     "output_type": "stream",
     "text": [
      "b'00097{\"type\": \"Board Update\", \"board\": [0, 6, 6, 1, 5, 5, 0, 2, 7, 7, 2, 1, 0, 6], \"your turn\": false}'\n",
      "b'00096{\"type\": \"Board Update\", \"board\": [0, 6, 6, 1, 5, 5, 0, 2, 7, 7, 3, 0, 0, 6], \"your turn\": true}'\n"
     ]
    }
   ],
   "source": [
    "sock.send(\n",
    "        json.dumps({\n",
    "            \"type\": \"Game Move\",\n",
    "            \"index\": random.randint(1, 6)\n",
    "        }).encode()\n",
    "    )"
   ]
  },
  {
   "cell_type": "code",
   "execution_count": 49,
   "id": "ee10cc81",
   "metadata": {},
   "outputs": [
    {
     "data": {
      "text/plain": [
       "41"
      ]
     },
     "execution_count": 49,
     "metadata": {},
     "output_type": "execute_result"
    },
    {
     "name": "stdout",
     "output_type": "stream",
     "text": [
      "b'00140{\"type\": \"Success\", \"data\": \"You have successfully initialized a game with id 0, the game doesn\\'t have a time response limit\", \"game_id\": 0}'\n",
      "b'00096{\"type\": \"Board Update\", \"board\": [0, 4, 4, 4, 4, 4, 4, 0, 4, 4, 4, 4, 4, 4], \"your turn\": true}'\n",
      "b'00068{\"type\": \"Notification\", \"data\": \"asdasdasd has joined your Lobby.\"}'\n"
     ]
    }
   ],
   "source": [
    "sock.send(json.dumps({\"type\": \"Start Game\", \"slow_game\": True}).encode())"
   ]
  },
  {
   "cell_type": "code",
   "execution_count": 24,
   "id": "db110141",
   "metadata": {},
   "outputs": [],
   "source": [
    "if not 5:\n",
    "    print(\"wha\")"
   ]
  },
  {
   "cell_type": "code",
   "execution_count": 45,
   "id": "dba0ec18",
   "metadata": {},
   "outputs": [
    {
     "data": {
      "text/plain": [
       "21"
      ]
     },
     "execution_count": 45,
     "metadata": {},
     "output_type": "execute_result"
    }
   ],
   "source": [
    "sock.send(json.dumps({\"type\": \"Quit Game\"}).encode())"
   ]
  }
 ],
 "metadata": {
  "kernelspec": {
   "display_name": "Python 3 (ipykernel)",
   "language": "python",
   "name": "python3"
  },
  "language_info": {
   "codemirror_mode": {
    "name": "ipython",
    "version": 3
   },
   "file_extension": ".py",
   "mimetype": "text/x-python",
   "name": "python",
   "nbconvert_exporter": "python",
   "pygments_lexer": "ipython3",
   "version": "3.9.4"
  }
 },
 "nbformat": 4,
 "nbformat_minor": 5
}
